{
 "cells": [
  {
   "cell_type": "code",
   "execution_count": null,
   "metadata": {},
   "outputs": [],
   "source": [
    "import requests\n",
    "from bs4 import BeautifulSoup\n",
    "from time import time\n",
    "from pathlib import Path\n",
    "import urllib.request\n",
    "import progressbar\n",
    "\n",
    "\n",
    "def getty_ddos(phrase, max_pages, extra_query = \"\"):\n",
    "    MAX_PAGES = max_pages\n",
    "\n",
    "#     phrase = input(\"Phrase: \")\n",
    "\n",
    "    base_query = phrase.split()[0] if \" \" in phrase else phrase\n",
    "\n",
    "    # create output dir if it doesn't exist\n",
    "    OUTDIR = f\"output_images_{base_query}\"\n",
    "    Path(OUTDIR).mkdir(exist_ok=True)\n",
    "\n",
    "    page = 0\n",
    "    count = 1\n",
    "    while count <= MAX_PAGES:\n",
    "        get_soup = requests.get(\n",
    "            f\"https://www.gettyimages.com/photos/{base_query}?page={page}&phrase={phrase}&sort=mostpopular{extra_query}\"\n",
    "        )\n",
    "        soup = BeautifulSoup(get_soup.text, \"lxml\")\n",
    "        pics = soup.findAll(\"img\", {\"class\": \"MosaicAsset-module__thumb___YJI_C\"})\n",
    "\n",
    "        for pic in progressbar.progressbar(pics, prefix=f\"Page: {count}/{MAX_PAGES} - Crawling Pictures [{phrase}]\"):\n",
    "            try:\n",
    "                image_name = str(time())\n",
    "                urllib.request.urlretrieve(pic.get(\"src\"), f\"{OUTDIR}/{image_name}.jpg\")\n",
    "            except:\n",
    "                pass\n",
    "\n",
    "        count += 1\n",
    "        page +=1"
   ]
  },
  {
   "cell_type": "code",
   "execution_count": null,
   "metadata": {},
   "outputs": [],
   "source": [
    "getty_ddos(\"semi truck\", 100)"
   ]
  },
  {
   "cell_type": "code",
   "execution_count": null,
   "metadata": {},
   "outputs": [],
   "source": [
    "getty_ddos(\"fire truck\", 32)"
   ]
  },
  {
   "cell_type": "code",
   "execution_count": null,
   "metadata": {},
   "outputs": [],
   "source": [
    "getty_ddos(\"police car\", 31)"
   ]
  },
  {
   "cell_type": "code",
   "execution_count": null,
   "metadata": {},
   "outputs": [],
   "source": [
    "getty_ddos(\"taxi cab\", 100)"
   ]
  },
  {
   "cell_type": "code",
   "execution_count": null,
   "metadata": {},
   "outputs": [],
   "source": [
    "getty_ddos(\"pickup truck\", 100)"
   ]
  },
  {
   "cell_type": "code",
   "execution_count": null,
   "metadata": {},
   "outputs": [],
   "source": [
    "getty_ddos(\"mini van\", 38)"
   ]
  },
  {
   "cell_type": "code",
   "execution_count": null,
   "metadata": {},
   "outputs": [],
   "source": [
    "getty_ddos(\"antique car\", 100)"
   ]
  }
 ],
 "metadata": {
  "kernelspec": {
   "display_name": "data",
   "language": "python",
   "name": "data"
  },
  "language_info": {
   "codemirror_mode": {
    "name": "ipython",
    "version": 3
   },
   "file_extension": ".py",
   "mimetype": "text/x-python",
   "name": "python",
   "nbconvert_exporter": "python",
   "pygments_lexer": "ipython3",
   "version": "3.7.5"
  }
 },
 "nbformat": 4,
 "nbformat_minor": 4
}
