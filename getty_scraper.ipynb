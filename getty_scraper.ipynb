{
 "cells": [
  {
   "cell_type": "code",
   "execution_count": null,
   "metadata": {},
   "outputs": [],
   "source": [
    "import requests\n",
    "from bs4 import BeautifulSoup\n",
    "from time import time\n",
    "from pathlib import Path\n",
    "import urllib.request\n",
    "from tqdm import tqdm\n",
    "\n",
    "def grab_images(phrase, max_pages, extra_query = \"\"):\n",
    "    MAX_PAGES = max_pages\n",
    "\n",
    "#     phrase = input(\"Phrase: \")\n",
    "\n",
    "    base_query = phrase.split()[0] if \" \" in phrase else phrase\n",
    "\n",
    "    # create output dir if it doesn't exist\n",
    "    OUTDIR = f\"output_images_{base_query}\"\n",
    "    Path(OUTDIR).mkdir(exist_ok=True)\n",
    "\n",
    "    page = 0\n",
    "    count = 0\n",
    "    while count <= MAX_PAGES:\n",
    "        get_soup = requests.get(\n",
    "            f\"https://www.gettyimages.com/photos/{base_query}?page={page}&phrase={phrase}&sort=mostpopular{extra_query}\"\n",
    "        )\n",
    "        soup = BeautifulSoup(get_soup.text, \"lxml\")\n",
    "        pics = tqdm(soup.findAll(\"img\", {\"class\": \"MosaicAsset-module__thumb___YJI_C\"}))\n",
    "\n",
    "        for pic in pics:\n",
    "            pics.set_description(f\"Page: {count}/{MAX_PAGES} - Crawling Pictures [{phrase}]\")\n",
    "            try:\n",
    "                image_name = str(time())\n",
    "                urllib.request.urlretrieve(pic.get(\"src\"), f\"{OUTDIR}/{image_name}.jpg\")\n",
    "            except:\n",
    "                pass\n",
    "\n",
    "        count += 1\n",
    "        page +=1"
   ]
  },
  {
   "cell_type": "code",
   "execution_count": null,
   "metadata": {},
   "outputs": [],
   "source": [
    "grab_images(\"semi truck\", 100)"
   ]
  },
  {
   "cell_type": "code",
   "execution_count": null,
   "metadata": {},
   "outputs": [],
   "source": [
    "grab_images(\"fire truck\", 32)"
   ]
  },
  {
   "cell_type": "code",
   "execution_count": null,
   "metadata": {},
   "outputs": [],
   "source": [
    "grab_images(\"police car\", 31)"
   ]
  },
  {
   "cell_type": "code",
   "execution_count": null,
   "metadata": {},
   "outputs": [],
   "source": [
    "grab_images(\"taxi cab\", 100)"
   ]
  },
  {
   "cell_type": "code",
   "execution_count": null,
   "metadata": {},
   "outputs": [],
   "source": [
    "grab_images(\"pickup truck\", 100)"
   ]
  },
  {
   "cell_type": "code",
   "execution_count": null,
   "metadata": {},
   "outputs": [],
   "source": [
    "grab_images(\"mini van\", 38)"
   ]
  },
  {
   "cell_type": "code",
   "execution_count": null,
   "metadata": {},
   "outputs": [],
   "source": [
    "grab_images(\"antique car\", 100)"
   ]
  }
 ],
 "metadata": {
  "interpreter": {
   "hash": "24a24ef328a4d5255626386d4710faca7cd6116e3bbe11b3e2c1d440285a12a3"
  },
  "kernelspec": {
   "display_name": "Python 3.7.5 64-bit ('data': virtualenv)",
   "name": "python3"
  },
  "language_info": {
   "codemirror_mode": {
    "name": "ipython",
    "version": 3
   },
   "file_extension": ".py",
   "mimetype": "text/x-python",
   "name": "python",
   "nbconvert_exporter": "python",
   "pygments_lexer": "ipython3",
   "version": "3.7.5"
  }
 },
 "nbformat": 4,
 "nbformat_minor": 4
}
